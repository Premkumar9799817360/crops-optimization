{
 "cells": [
  {
   "cell_type": "code",
   "execution_count": 1,
   "id": "7d08895c",
   "metadata": {},
   "outputs": [],
   "source": [
    "import numpy as np\n",
    "import pandas as pd\n",
    "import matplotlib.pyplot as plt\n",
    "import seaborn as sns\n",
    "import ipywidgets as interact\n",
    "import ipywidgets as widgets"
   ]
  },
  {
   "cell_type": "code",
   "execution_count": 2,
   "id": "6efbf627",
   "metadata": {},
   "outputs": [],
   "source": [
    " data = pd.read_csv(\"data.csv\")"
   ]
  },
  {
   "cell_type": "code",
   "execution_count": 3,
   "id": "ee874a9c",
   "metadata": {},
   "outputs": [
    {
     "data": {
      "text/html": [
       "<div>\n",
       "<style scoped>\n",
       "    .dataframe tbody tr th:only-of-type {\n",
       "        vertical-align: middle;\n",
       "    }\n",
       "\n",
       "    .dataframe tbody tr th {\n",
       "        vertical-align: top;\n",
       "    }\n",
       "\n",
       "    .dataframe thead th {\n",
       "        text-align: right;\n",
       "    }\n",
       "</style>\n",
       "<table border=\"1\" class=\"dataframe\">\n",
       "  <thead>\n",
       "    <tr style=\"text-align: right;\">\n",
       "      <th></th>\n",
       "      <th>N</th>\n",
       "      <th>P</th>\n",
       "      <th>K</th>\n",
       "      <th>temperature</th>\n",
       "      <th>humidity</th>\n",
       "      <th>ph</th>\n",
       "      <th>rainfall</th>\n",
       "      <th>label</th>\n",
       "    </tr>\n",
       "  </thead>\n",
       "  <tbody>\n",
       "    <tr>\n",
       "      <th>0</th>\n",
       "      <td>90</td>\n",
       "      <td>42</td>\n",
       "      <td>43</td>\n",
       "      <td>20.879744</td>\n",
       "      <td>82.002744</td>\n",
       "      <td>6.502985</td>\n",
       "      <td>202.935536</td>\n",
       "      <td>rice</td>\n",
       "    </tr>\n",
       "    <tr>\n",
       "      <th>1</th>\n",
       "      <td>85</td>\n",
       "      <td>58</td>\n",
       "      <td>41</td>\n",
       "      <td>21.770462</td>\n",
       "      <td>80.319644</td>\n",
       "      <td>7.038096</td>\n",
       "      <td>226.655537</td>\n",
       "      <td>rice</td>\n",
       "    </tr>\n",
       "    <tr>\n",
       "      <th>2</th>\n",
       "      <td>60</td>\n",
       "      <td>55</td>\n",
       "      <td>44</td>\n",
       "      <td>23.004459</td>\n",
       "      <td>82.320763</td>\n",
       "      <td>7.840207</td>\n",
       "      <td>263.964248</td>\n",
       "      <td>rice</td>\n",
       "    </tr>\n",
       "    <tr>\n",
       "      <th>3</th>\n",
       "      <td>74</td>\n",
       "      <td>35</td>\n",
       "      <td>40</td>\n",
       "      <td>26.491096</td>\n",
       "      <td>80.158363</td>\n",
       "      <td>6.980401</td>\n",
       "      <td>242.864034</td>\n",
       "      <td>rice</td>\n",
       "    </tr>\n",
       "    <tr>\n",
       "      <th>4</th>\n",
       "      <td>78</td>\n",
       "      <td>42</td>\n",
       "      <td>42</td>\n",
       "      <td>20.130175</td>\n",
       "      <td>81.604873</td>\n",
       "      <td>7.628473</td>\n",
       "      <td>262.717340</td>\n",
       "      <td>rice</td>\n",
       "    </tr>\n",
       "  </tbody>\n",
       "</table>\n",
       "</div>"
      ],
      "text/plain": [
       "    N   P   K  temperature   humidity        ph    rainfall label\n",
       "0  90  42  43    20.879744  82.002744  6.502985  202.935536  rice\n",
       "1  85  58  41    21.770462  80.319644  7.038096  226.655537  rice\n",
       "2  60  55  44    23.004459  82.320763  7.840207  263.964248  rice\n",
       "3  74  35  40    26.491096  80.158363  6.980401  242.864034  rice\n",
       "4  78  42  42    20.130175  81.604873  7.628473  262.717340  rice"
      ]
     },
     "execution_count": 3,
     "metadata": {},
     "output_type": "execute_result"
    }
   ],
   "source": [
    "data.head()"
   ]
  },
  {
   "cell_type": "code",
   "execution_count": 4,
   "id": "417d1a3e",
   "metadata": {},
   "outputs": [
    {
     "data": {
      "text/plain": [
       "(2200, 8)"
      ]
     },
     "execution_count": 4,
     "metadata": {},
     "output_type": "execute_result"
    }
   ],
   "source": [
    "data.shape"
   ]
  },
  {
   "cell_type": "code",
   "execution_count": null,
   "id": "ef1c6aca",
   "metadata": {},
   "outputs": [],
   "source": []
  },
  {
   "cell_type": "code",
   "execution_count": 68,
   "id": "5995425a",
   "metadata": {},
   "outputs": [
    {
     "data": {
      "text/plain": [
       "N              0\n",
       "P              0\n",
       "K              0\n",
       "temperature    0\n",
       "humidity       0\n",
       "ph             0\n",
       "rainfall       0\n",
       "label          0\n",
       "dtype: int64"
      ]
     },
     "execution_count": 68,
     "metadata": {},
     "output_type": "execute_result"
    }
   ],
   "source": [
    "data.isnull().sum()"
   ]
  },
  {
   "cell_type": "code",
   "execution_count": 6,
   "id": "90940e3b",
   "metadata": {},
   "outputs": [
    {
     "data": {
      "text/plain": [
       "rice           100\n",
       "maize          100\n",
       "jute           100\n",
       "cotton         100\n",
       "coconut        100\n",
       "papaya         100\n",
       "orange         100\n",
       "apple          100\n",
       "muskmelon      100\n",
       "watermelon     100\n",
       "grapes         100\n",
       "mango          100\n",
       "banana         100\n",
       "pomegranate    100\n",
       "lentil         100\n",
       "blackgram      100\n",
       "mungbean       100\n",
       "mothbeans      100\n",
       "pigeonpeas     100\n",
       "kidneybeans    100\n",
       "chickpea       100\n",
       "coffee         100\n",
       "Name: label, dtype: int64"
      ]
     },
     "execution_count": 6,
     "metadata": {},
     "output_type": "execute_result"
    }
   ],
   "source": [
    "data['label'].value_counts()"
   ]
  },
  {
   "cell_type": "code",
   "execution_count": 7,
   "id": "ee7cc559",
   "metadata": {},
   "outputs": [
    {
     "name": "stdout",
     "output_type": "stream",
     "text": [
      "Average Ratio of Nitrogen in the soil : 50.55\n",
      "Average Ratio of phosphorous in the soil : 53.36\n",
      "Average Ratio of potassium in the soil : 48.15\n",
      "Average Temperature in celsius : 25.62\n",
      "Average Relative Humidity in % : 71.48\n",
      "Average PH value of the soil : 6.47\n",
      "Average Rainfall in nm : 103.46\n"
     ]
    }
   ],
   "source": [
    "print(\"Average Ratio of Nitrogen in the soil : {0:.2f}\".format(data['N'].mean()))\n",
    "print(\"Average Ratio of phosphorous in the soil : {0:.2f}\".format(data['P'].mean()))\n",
    "print(\"Average Ratio of potassium in the soil : {0:.2f}\".format(data['K'].mean()))\n",
    "print(\"Average Temperature in celsius : {0:.2f}\".format(data['temperature'].mean()))\n",
    "print(\"Average Relative Humidity in % : {0:.2f}\".format(data['humidity'].mean()))\n",
    "print(\"Average PH value of the soil : {0:.2f}\".format(data['ph'].mean()))\n",
    "print(\"Average Rainfall in nm : {0:.2f}\".format(data['rainfall'].mean()))"
   ]
  },
  {
   "cell_type": "code",
   "execution_count": 8,
   "id": "e22d5e75",
   "metadata": {},
   "outputs": [
    {
     "data": {
      "text/html": [
       "<div>\n",
       "<style scoped>\n",
       "    .dataframe tbody tr th:only-of-type {\n",
       "        vertical-align: middle;\n",
       "    }\n",
       "\n",
       "    .dataframe tbody tr th {\n",
       "        vertical-align: top;\n",
       "    }\n",
       "\n",
       "    .dataframe thead th {\n",
       "        text-align: right;\n",
       "    }\n",
       "</style>\n",
       "<table border=\"1\" class=\"dataframe\">\n",
       "  <thead>\n",
       "    <tr style=\"text-align: right;\">\n",
       "      <th></th>\n",
       "      <th>N</th>\n",
       "      <th>P</th>\n",
       "      <th>K</th>\n",
       "      <th>temperature</th>\n",
       "      <th>humidity</th>\n",
       "      <th>ph</th>\n",
       "      <th>rainfall</th>\n",
       "    </tr>\n",
       "  </thead>\n",
       "  <tbody>\n",
       "    <tr>\n",
       "      <th>count</th>\n",
       "      <td>2200.000000</td>\n",
       "      <td>2200.000000</td>\n",
       "      <td>2200.000000</td>\n",
       "      <td>2200.000000</td>\n",
       "      <td>2200.000000</td>\n",
       "      <td>2200.000000</td>\n",
       "      <td>2200.000000</td>\n",
       "    </tr>\n",
       "    <tr>\n",
       "      <th>mean</th>\n",
       "      <td>50.551818</td>\n",
       "      <td>53.362727</td>\n",
       "      <td>48.149091</td>\n",
       "      <td>25.616244</td>\n",
       "      <td>71.481779</td>\n",
       "      <td>6.469480</td>\n",
       "      <td>103.463655</td>\n",
       "    </tr>\n",
       "    <tr>\n",
       "      <th>std</th>\n",
       "      <td>36.917334</td>\n",
       "      <td>32.985883</td>\n",
       "      <td>50.647931</td>\n",
       "      <td>5.063749</td>\n",
       "      <td>22.263812</td>\n",
       "      <td>0.773938</td>\n",
       "      <td>54.958389</td>\n",
       "    </tr>\n",
       "    <tr>\n",
       "      <th>min</th>\n",
       "      <td>0.000000</td>\n",
       "      <td>5.000000</td>\n",
       "      <td>5.000000</td>\n",
       "      <td>8.825675</td>\n",
       "      <td>14.258040</td>\n",
       "      <td>3.504752</td>\n",
       "      <td>20.211267</td>\n",
       "    </tr>\n",
       "    <tr>\n",
       "      <th>25%</th>\n",
       "      <td>21.000000</td>\n",
       "      <td>28.000000</td>\n",
       "      <td>20.000000</td>\n",
       "      <td>22.769375</td>\n",
       "      <td>60.261953</td>\n",
       "      <td>5.971693</td>\n",
       "      <td>64.551686</td>\n",
       "    </tr>\n",
       "    <tr>\n",
       "      <th>50%</th>\n",
       "      <td>37.000000</td>\n",
       "      <td>51.000000</td>\n",
       "      <td>32.000000</td>\n",
       "      <td>25.598693</td>\n",
       "      <td>80.473146</td>\n",
       "      <td>6.425045</td>\n",
       "      <td>94.867624</td>\n",
       "    </tr>\n",
       "    <tr>\n",
       "      <th>75%</th>\n",
       "      <td>84.250000</td>\n",
       "      <td>68.000000</td>\n",
       "      <td>49.000000</td>\n",
       "      <td>28.561654</td>\n",
       "      <td>89.948771</td>\n",
       "      <td>6.923643</td>\n",
       "      <td>124.267508</td>\n",
       "    </tr>\n",
       "    <tr>\n",
       "      <th>max</th>\n",
       "      <td>140.000000</td>\n",
       "      <td>145.000000</td>\n",
       "      <td>205.000000</td>\n",
       "      <td>43.675493</td>\n",
       "      <td>99.981876</td>\n",
       "      <td>9.935091</td>\n",
       "      <td>298.560117</td>\n",
       "    </tr>\n",
       "  </tbody>\n",
       "</table>\n",
       "</div>"
      ],
      "text/plain": [
       "                 N            P            K  temperature     humidity  \\\n",
       "count  2200.000000  2200.000000  2200.000000  2200.000000  2200.000000   \n",
       "mean     50.551818    53.362727    48.149091    25.616244    71.481779   \n",
       "std      36.917334    32.985883    50.647931     5.063749    22.263812   \n",
       "min       0.000000     5.000000     5.000000     8.825675    14.258040   \n",
       "25%      21.000000    28.000000    20.000000    22.769375    60.261953   \n",
       "50%      37.000000    51.000000    32.000000    25.598693    80.473146   \n",
       "75%      84.250000    68.000000    49.000000    28.561654    89.948771   \n",
       "max     140.000000   145.000000   205.000000    43.675493    99.981876   \n",
       "\n",
       "                ph     rainfall  \n",
       "count  2200.000000  2200.000000  \n",
       "mean      6.469480   103.463655  \n",
       "std       0.773938    54.958389  \n",
       "min       3.504752    20.211267  \n",
       "25%       5.971693    64.551686  \n",
       "50%       6.425045    94.867624  \n",
       "75%       6.923643   124.267508  \n",
       "max       9.935091   298.560117  "
      ]
     },
     "execution_count": 8,
     "metadata": {},
     "output_type": "execute_result"
    }
   ],
   "source": [
    "data.describe()"
   ]
  },
  {
   "cell_type": "code",
   "execution_count": 9,
   "id": "97673cb2",
   "metadata": {},
   "outputs": [
    {
     "data": {
      "application/vnd.jupyter.widget-view+json": {
       "model_id": "2054c56b98e84294b701673c2060e6c3",
       "version_major": 2,
       "version_minor": 0
      },
      "text/plain": [
       "interactive(children=(Dropdown(description='crops', options=('rice', 'maize', 'jute', 'cotton', 'coconut', 'pa…"
      ]
     },
     "metadata": {},
     "output_type": "display_data"
    }
   ],
   "source": [
    "import ipywidgets as widgets\n",
    "data = pd.read_csv(\"data.csv\")\n",
    "@widgets.interact(crops = np.asarray(data['label'].value_counts().index))\n",
    "def summary(crops = data['label'].value_counts().index):\n",
    "    x = data[data[\"label\"]==crops]\n",
    "    print(\"---------------------------------------------------------\")\n",
    "    print(\"Statistics for Nitrogen\")\n",
    "    print(\"Minimum Nitrogen required :\",x[\"N\"].min())\n",
    "    print(\"Average Nitrogen required :\",x[\"N\"].mean())\n",
    "    print(\"Maxmum Nitrogen required :\",x[\"N\"].max())\n",
    "    print()\n",
    "    print(\"---------------------------------------------------------\")\n",
    "    print(\"Statistics for Phosphorous\")\n",
    "    print(\"Minimum Phosphorous required :\",x[\"P\"].min())\n",
    "    print(\"Average Phosphorous required :\",x[\"P\"].mean())\n",
    "    print(\"Maxmum Phosphorous required :\",x[\"P\"].max())\n",
    "    print()\n",
    "    print(\"---------------------------------------------------------\")\n",
    "    print(\"Statistics for Potassium\")\n",
    "    print(\"Minimum potassium required :\",x[\"K\"].min())\n",
    "    print(\"Average Potassium required :\",x[\"K\"].mean())\n",
    "    print(\"Maxmum  Potassium required :\",x[\"K\"].max())\n",
    "    print()\n",
    "    print(\"---------------------------------------------------------\")\n",
    "    print(\"Statistics for Temperature\")\n",
    "    print(\"Minimum Temperature required :{:0.2f}\".format(x[\"temperature\"].min()))\n",
    "    print(\"Average Temperature required :{:0.2f}\".format(x[\"temperature\"].mean()))\n",
    "    print(\"Maxmum  Temperature required :{:0.2f}\".format(x[\"temperature\"].max()))\n",
    "    print()\n",
    "    print(\"---------------------------------------------------------\")\n",
    "    print(\"Statistics for Humidity \")\n",
    "    print(\"Minimum Humidity required :{:0.2f}\".format(x[\"humidity\"].min()))\n",
    "    print(\"Average Humidity required :{:0.2f}\".format(x[\"humidity\"].mean()))\n",
    "    print(\"Maxmum Humidity required :{:0.2f}\".format(x[\"humidity\"].max()))\n",
    "    print()\n",
    "    print(\"---------------------------------------------------------\")\n",
    "    print(\"Statistics for PH \")\n",
    "    print(\"Minimum PH required :{:0.2f}\".format(x[\"ph\"].min()))\n",
    "    print(\"Average PH required :{:0.2f}\".format(x[\"ph\"].mean()))\n",
    "    print(\"Maxmum PH required :{:0.2f}\".format(x[\"ph\"].max()))\n",
    "    print()\n",
    "    print(\"---------------------------------------------------------\")\n",
    "    print(\"Statistics for Rainfall \")\n",
    "    print(\"Minimum Rainfall required :{:0.2f}\".format(x[\"rainfall\"].min()))\n",
    "    print(\"Average Rainfall required :{:0.2f}\".format(x[\"rainfall\"].mean()))\n",
    "    print(\"Maxmum Rainfall required :{:0.2f}\".format(x[\"rainfall\"].max()))\n",
    "\n"
   ]
  },
  {
   "cell_type": "code",
   "execution_count": 10,
   "id": "caa2e7a3",
   "metadata": {},
   "outputs": [
    {
     "data": {
      "application/vnd.jupyter.widget-view+json": {
       "model_id": "dfe9cb0512444b458719eedc60cfba17",
       "version_major": 2,
       "version_minor": 0
      },
      "text/plain": [
       "interactive(children=(Dropdown(description='conditions', options=('N', 'P', 'K', 'temperature', 'ph', 'humdity…"
      ]
     },
     "metadata": {},
     "output_type": "display_data"
    }
   ],
   "source": [
    "@widgets.interact\n",
    "def compare(conditions= [\"N\",\"P\",\"K\",\"temperature\",\"ph\",\"humdity\",\"rainfall\"]):\n",
    "    print(\"Average Value for\",conditions,\"is {0:.2f}\".format(data[conditions].mean()))\n",
    "    print()\n",
    "    print(\"*********************************************************\")\n",
    "    print(\"Rice : {0:.2f}\".format(data[data[\"label\"]==\"rice\"][conditions].mean()))\n",
    "    print(\"Maize : {0:.2f}\".format(data[data[\"label\"]==\"maize\"][conditions].mean()))    \n",
    "    print(\"Jute : {0:.2f}\".format(data[data[\"label\"]==\"jute\"][conditions].mean()))    \n",
    "    print(\"Cotton : {0:.2f}\".format(data[data[\"label\"]==\"cotton\"][conditions].mean()))\n",
    "    print(\"Coconut : {0:.2f}\".format(data[data[\"label\"]==\"coconut\"][conditions].mean()))    \n",
    "    print(\"Papaya : {0:.2f}\".format(data[data[\"label\"]==\"papaya\"][conditions].mean()))\n",
    "    print(\"Orange : {0:.2f}\".format(data[data[\"label\"]==\"orange\"][conditions].mean()))    \n",
    "    print(\"Apple : {0:.2f}\".format(data[data[\"label\"]==\"apple\"][conditions].mean()))    \n",
    "    print(\"Muskmelon : {0:.2f}\".format(data[data[\"label\"]==\"muskmelon\"][conditions].mean()))    \n",
    "    print(\"Watermelon : {0:.2f}\".format(data[data[\"label\"]==\"watermelon\"][conditions].mean())) \n",
    "    print(\"Grapes : {0:.2f}\".format(data[data[\"label\"]==\"grapes\"][conditions].mean()))    \n",
    "    print(\"Banana : {0:.2f}\".format(data[data[\"label\"]==\"banana\"][conditions].mean()))    \n",
    "    print(\"Mango : {0:.2f}\".format(data[data[\"label\"]==\"mango\"][conditions].mean()))    \n",
    "    print(\"Pomegranate: {0:.2f}\".format(data[data[\"label\"]==\"pomegranate\"][conditions].mean()))    \n",
    "    print(\"Lentil : {0:.2f}\".format(data[data[\"label\"]==\"lentil\"][conditions].mean()))    \n",
    "    print(\"Blackgram : {0:.2f}\".format(data[data[\"label\"]==\"blackgram\"][conditions].mean()))    \n",
    "    print(\"Mungbean : {0:.2f}\".format(data[data[\"label\"]==\"mungbean\"][conditions].mean()))    \n",
    "    print(\"Mothbeans : {0:.2f}\".format(data[data[\"label\"]==\"mothbeans\"][conditions].mean()))    \n",
    "    print(\"Pigeonpeas : {0:.2f}\".format(data[data[\"label\"]==\"pigeonpeas\"][conditions].mean()))\n",
    "    print(\"Kidneybeans : {0:.2f}\".format(data[data[\"label\"]==\"kidneybeans\"][conditions].mean()))        \n",
    "    print(\"Chickpea : {0:.2f}\".format(data[data[\"label\"]==\"chickpea\"][conditions].mean()))        \n",
    "    print(\"Coffee : {0:.2f}\".format(data[data[\"label\"]==\"coffee\"][conditions].mean()))        "
   ]
  },
  {
   "cell_type": "code",
   "execution_count": 11,
   "id": "93530f93",
   "metadata": {},
   "outputs": [
    {
     "data": {
      "application/vnd.jupyter.widget-view+json": {
       "model_id": "53d6c8ba1aec4404b18efe8662beb1c5",
       "version_major": 2,
       "version_minor": 0
      },
      "text/plain": [
       "interactive(children=(Dropdown(description='conditions', options=('N', 'P', 'K', 'temperature', 'ph', 'humdity…"
      ]
     },
     "metadata": {},
     "output_type": "display_data"
    }
   ],
   "source": [
    "@widgets.interact\n",
    "def compare(conditions= [\"N\",\"P\",\"K\",\"temperature\",\"ph\",\"humdity\",\"rainfall\"]):\n",
    "    print(\"Crops which required grater than average\", conditions,\"\\n\")\n",
    "    print(data[data[conditions]> data[conditions].mean()][\"label\"].unique())\n",
    "    print(\"--------------------------------------------------------------\")\n",
    "    print(\"Crops which required grater than average\", conditions,\"\\n\")\n",
    "    print(data[data[conditions]<= data[conditions].mean()][\"label\"].unique())\n",
    "    "
   ]
  },
  {
   "cell_type": "code",
   "execution_count": 12,
   "id": "a22f0b3a",
   "metadata": {},
   "outputs": [
    {
     "name": "stderr",
     "output_type": "stream",
     "text": [
      "C:\\Users\\Prem Kumar\\AppData\\Local\\Programs\\Python\\Python310\\lib\\site-packages\\seaborn\\distributions.py:2619: FutureWarning: `distplot` is a deprecated function and will be removed in a future version. Please adapt your code to use either `displot` (a figure-level function with similar flexibility) or `histplot` (an axes-level function for histograms).\n",
      "  warnings.warn(msg, FutureWarning)\n",
      "C:\\Users\\Prem Kumar\\AppData\\Local\\Programs\\Python\\Python310\\lib\\site-packages\\seaborn\\distributions.py:2619: FutureWarning: `distplot` is a deprecated function and will be removed in a future version. Please adapt your code to use either `displot` (a figure-level function with similar flexibility) or `histplot` (an axes-level function for histograms).\n",
      "  warnings.warn(msg, FutureWarning)\n",
      "C:\\Users\\Prem Kumar\\AppData\\Local\\Programs\\Python\\Python310\\lib\\site-packages\\seaborn\\distributions.py:2619: FutureWarning: `distplot` is a deprecated function and will be removed in a future version. Please adapt your code to use either `displot` (a figure-level function with similar flexibility) or `histplot` (an axes-level function for histograms).\n",
      "  warnings.warn(msg, FutureWarning)\n",
      "C:\\Users\\Prem Kumar\\AppData\\Local\\Programs\\Python\\Python310\\lib\\site-packages\\seaborn\\distributions.py:2619: FutureWarning: `distplot` is a deprecated function and will be removed in a future version. Please adapt your code to use either `displot` (a figure-level function with similar flexibility) or `histplot` (an axes-level function for histograms).\n",
      "  warnings.warn(msg, FutureWarning)\n",
      "C:\\Users\\Prem Kumar\\AppData\\Local\\Programs\\Python\\Python310\\lib\\site-packages\\seaborn\\distributions.py:2619: FutureWarning: `distplot` is a deprecated function and will be removed in a future version. Please adapt your code to use either `displot` (a figure-level function with similar flexibility) or `histplot` (an axes-level function for histograms).\n",
      "  warnings.warn(msg, FutureWarning)\n",
      "C:\\Users\\Prem Kumar\\AppData\\Local\\Programs\\Python\\Python310\\lib\\site-packages\\seaborn\\distributions.py:2619: FutureWarning: `distplot` is a deprecated function and will be removed in a future version. Please adapt your code to use either `displot` (a figure-level function with similar flexibility) or `histplot` (an axes-level function for histograms).\n",
      "  warnings.warn(msg, FutureWarning)\n",
      "C:\\Users\\Prem Kumar\\AppData\\Local\\Programs\\Python\\Python310\\lib\\site-packages\\seaborn\\distributions.py:2619: FutureWarning: `distplot` is a deprecated function and will be removed in a future version. Please adapt your code to use either `displot` (a figure-level function with similar flexibility) or `histplot` (an axes-level function for histograms).\n",
      "  warnings.warn(msg, FutureWarning)\n"
     ]
    },
    {
     "data": {
      "image/png": "[encoded data removed]",
      "text/plain": [
       "<Figure size 1080x504 with 7 Axes>"
      ]
     },
     "metadata": {
      "needs_background": "light"
     },
     "output_type": "display_data"
    }
   ],
   "source": [
    "plt.figure(figsize= (15,7))\n",
    "\n",
    "plt.subplot(2,4,1)\n",
    "sns.distplot(data[\"N\"],color = \"orange\")\n",
    "plt.xlabel(\"Ratio of Nitrogen\",fontsize = 12)\n",
    "plt.grid()\n",
    "\n",
    "plt.subplot(2,4,2)\n",
    "sns.distplot(data[\"P\"],color = \"skyblue\")\n",
    "plt.xlabel(\"Ratio of Phosphorous\",fontsize = 12)\n",
    "plt.grid()\n",
    "\n",
    "plt.subplot(2,4,3)\n",
    "sns.distplot(data[\"K\"],color = \"darkblue\")\n",
    "plt.xlabel(\"Ratio of Potassium\",fontsize = 12)\n",
    "plt.grid()\n",
    "\n",
    "plt.subplot(2,4,4)\n",
    "sns.distplot(data[\"temperature\"],color = \"cyan\")\n",
    "plt.xlabel(\"Temperature\",fontsize = 12)\n",
    "plt.grid()\n",
    "\n",
    "plt.subplot(2,4,5)\n",
    "sns.distplot(data[\"humidity\"],color = \"darkgreen\")\n",
    "plt.xlabel(\"Humidity\",fontsize = 12)\n",
    "plt.grid()\n",
    "\n",
    "plt.subplot(2,4,6)\n",
    "sns.distplot(data[\"ph\"],color = \"indigo\")\n",
    "plt.xlabel(\"PH Level\",fontsize = 12)\n",
    "plt.grid()\n",
    "\n",
    "plt.subplot(2,4,7)\n",
    "sns.distplot(data[\"rainfall\"],color = \"hotpink\")\n",
    "plt.xlabel(\"Rainfall\",fontsize = 12)\n",
    "plt.grid()\n"
   ]
  },
  {
   "cell_type": "code",
   "execution_count": 13,
   "id": "0b2b9f26",
   "metadata": {},
   "outputs": [
    {
     "name": "stdout",
     "output_type": "stream",
     "text": [
      "Some Interesting Patterns\n",
      "--------------------------------------\n",
      "Crops which requires Very High Ratio of Nitrogen Contect in Soil : ['cotton']\n",
      "Crops which requires Very High Ratio of Phosphorous Contect in Soil : ['grapes' 'apple']\n",
      "Crops which requires Very High Ratio of Potassium Contect in Soil : ['grapes' 'apple']\n",
      "Crops which requires Very High Rainfall : ['rice' 'papaya' 'coconut']\n",
      "Crops which requires Very Low Tamperature : ['grapes']\n",
      "Crops which requires Very High Tamperature : ['grapes' 'papaya']\n",
      "Crops which requires Very Low Humididty : ['chickpea' 'kidneybeans']\n",
      "Crops which requires Very High PH : ['mothbeans']\n",
      "Crops which requires Very Low PH : ['mothbeans']\n"
     ]
    }
   ],
   "source": [
    "print(\"Some Interesting Patterns\")\n",
    "print(\"--------------------------------------\")\n",
    "print(\"Crops which requires Very High Ratio of Nitrogen Contect in Soil :\",data[data[\"N\"]>120][\"label\"].unique())\n",
    "print(\"Crops which requires Very High Ratio of Phosphorous Contect in Soil :\",data[data[\"P\"]>100][\"label\"].unique())\n",
    "print(\"Crops which requires Very High Ratio of Potassium Contect in Soil :\",data[data[\"K\"]>200][\"label\"].unique())\n",
    "print(\"Crops which requires Very High Rainfall :\",data[data[\"rainfall\"]>200][\"label\"].unique())\n",
    "print(\"Crops which requires Very Low Tamperature :\",data[data[\"temperature\"]<10][\"label\"].unique())\n",
    "print(\"Crops which requires Very High Tamperature :\",data[data[\"temperature\"]>40][\"label\"].unique())\n",
    "print(\"Crops which requires Very Low Humididty :\",data[data[\"humidity\"]<20][\"label\"].unique())\n",
    "print(\"Crops which requires Very High PH :\",data[data[\"ph\"]>9][\"label\"].unique())\n",
    "print(\"Crops which requires Very Low PH :\",data[data[\"ph\"]<4][\"label\"].unique())\n",
    "\n"
   ]
  },
  {
   "cell_type": "code",
   "execution_count": 14,
   "id": "5944824c",
   "metadata": {},
   "outputs": [
    {
     "name": "stdout",
     "output_type": "stream",
     "text": [
      "Summer Crops\n",
      "['pigeonpeas' 'mothbeans' 'blackgram' 'mango' 'grapes' 'orange' 'papaya']\n",
      "*******************************************\n",
      "\n",
      "Winter Crops\n",
      "['maize' 'pigeonpeas' 'lentil' 'pomegranate' 'grapes' 'orange']\n",
      "*******************************************\n",
      "\n",
      "Rainy Crops\n",
      "['rice' 'papaya' 'coconut']\n",
      "*******************************************\n"
     ]
    }
   ],
   "source": [
    "print(\"Summer Crops\")\n",
    "print(data[(data[\"temperature\"]>30) & (data[\"humidity\"]>50)]['label'].unique())\n",
    "print(\"*******************************************\")\n",
    "print()\n",
    "print(\"Winter Crops\")\n",
    "print(data[(data[\"temperature\"]<20) & (data[\"humidity\"]>30)]['label'].unique())\n",
    "print(\"*******************************************\")\n",
    "print()\n",
    "print(\"Rainy Crops\")\n",
    "print(data[(data[\"rainfall\"]>200) & (data[\"humidity\"]>30)]['label'].unique())\n",
    "print(\"*******************************************\")"
   ]
  },
  {
   "cell_type": "code",
   "execution_count": 15,
   "id": "2843f65a",
   "metadata": {},
   "outputs": [],
   "source": [
    "from sklearn.cluster import KMeans\n"
   ]
  },
  {
   "cell_type": "code",
   "execution_count": 16,
   "id": "cfabdef6",
   "metadata": {},
   "outputs": [],
   "source": [
    "\n",
    "\n",
    "\n",
    "\n",
    "import warnings"
   ]
  },
  {
   "cell_type": "code",
   "execution_count": 17,
   "id": "1327cc46",
   "metadata": {},
   "outputs": [],
   "source": [
    "warnings.filterwarnings(\"ignore\")"
   ]
  },
  {
   "cell_type": "code",
   "execution_count": 18,
   "id": "a8ed6ccd",
   "metadata": {},
   "outputs": [
    {
     "name": "stdout",
     "output_type": "stream",
     "text": [
      "(2200, 7)\n"
     ]
    }
   ],
   "source": [
    "\n",
    "\n",
    "x = data.loc[:,[\"N\",\"P\",\"K\",\"temperature\",\"humidity\",\"ph\",\"rainfall\"]].values\n",
    "print(x.shape)"
   ]
  },
  {
   "cell_type": "code",
   "execution_count": 19,
   "id": "c9ea6399",
   "metadata": {},
   "outputs": [],
   "source": [
    "x_data = pd.DataFrame(x)"
   ]
  },
  {
   "cell_type": "code",
   "execution_count": 20,
   "id": "6aeeb275",
   "metadata": {},
   "outputs": [
    {
     "data": {
      "text/html": [
       "<div>\n",
       "<style scoped>\n",
       "    .dataframe tbody tr th:only-of-type {\n",
       "        vertical-align: middle;\n",
       "    }\n",
       "\n",
       "    .dataframe tbody tr th {\n",
       "        vertical-align: top;\n",
       "    }\n",
       "\n",
       "    .dataframe thead th {\n",
       "        text-align: right;\n",
       "    }\n",
       "</style>\n",
       "<table border=\"1\" class=\"dataframe\">\n",
       "  <thead>\n",
       "    <tr style=\"text-align: right;\">\n",
       "      <th></th>\n",
       "      <th>0</th>\n",
       "      <th>1</th>\n",
       "      <th>2</th>\n",
       "      <th>3</th>\n",
       "      <th>4</th>\n",
       "      <th>5</th>\n",
       "      <th>6</th>\n",
       "    </tr>\n",
       "  </thead>\n",
       "  <tbody>\n",
       "    <tr>\n",
       "      <th>0</th>\n",
       "      <td>90.0</td>\n",
       "      <td>42.0</td>\n",
       "      <td>43.0</td>\n",
       "      <td>20.879744</td>\n",
       "      <td>82.002744</td>\n",
       "      <td>6.502985</td>\n",
       "      <td>202.935536</td>\n",
       "    </tr>\n",
       "    <tr>\n",
       "      <th>1</th>\n",
       "      <td>85.0</td>\n",
       "      <td>58.0</td>\n",
       "      <td>41.0</td>\n",
       "      <td>21.770462</td>\n",
       "      <td>80.319644</td>\n",
       "      <td>7.038096</td>\n",
       "      <td>226.655537</td>\n",
       "    </tr>\n",
       "    <tr>\n",
       "      <th>2</th>\n",
       "      <td>60.0</td>\n",
       "      <td>55.0</td>\n",
       "      <td>44.0</td>\n",
       "      <td>23.004459</td>\n",
       "      <td>82.320763</td>\n",
       "      <td>7.840207</td>\n",
       "      <td>263.964248</td>\n",
       "    </tr>\n",
       "    <tr>\n",
       "      <th>3</th>\n",
       "      <td>74.0</td>\n",
       "      <td>35.0</td>\n",
       "      <td>40.0</td>\n",
       "      <td>26.491096</td>\n",
       "      <td>80.158363</td>\n",
       "      <td>6.980401</td>\n",
       "      <td>242.864034</td>\n",
       "    </tr>\n",
       "    <tr>\n",
       "      <th>4</th>\n",
       "      <td>78.0</td>\n",
       "      <td>42.0</td>\n",
       "      <td>42.0</td>\n",
       "      <td>20.130175</td>\n",
       "      <td>81.604873</td>\n",
       "      <td>7.628473</td>\n",
       "      <td>262.717340</td>\n",
       "    </tr>\n",
       "  </tbody>\n",
       "</table>\n",
       "</div>"
      ],
      "text/plain": [
       "      0     1     2          3          4         5           6\n",
       "0  90.0  42.0  43.0  20.879744  82.002744  6.502985  202.935536\n",
       "1  85.0  58.0  41.0  21.770462  80.319644  7.038096  226.655537\n",
       "2  60.0  55.0  44.0  23.004459  82.320763  7.840207  263.964248\n",
       "3  74.0  35.0  40.0  26.491096  80.158363  6.980401  242.864034\n",
       "4  78.0  42.0  42.0  20.130175  81.604873  7.628473  262.717340"
      ]
     },
     "execution_count": 20,
     "metadata": {},
     "output_type": "execute_result"
    }
   ],
   "source": [
    "x_data.head()"
   ]
  },
  {
   "cell_type": "code",
   "execution_count": 21,
   "id": "15a449ae",
   "metadata": {},
   "outputs": [
    {
     "data": {
      "image/png": "[encoded data removed]",
      "text/plain": [
       "<Figure size 720x288 with 1 Axes>"
      ]
     },
     "metadata": {
      "needs_background": "light"
     },
     "output_type": "display_data"
    }
   ],
   "source": [
    "plt.figure(figsize = (10,4))\n",
    "\n",
    "wcss =[]\n",
    "for i in range(1,11):\n",
    "    km = KMeans(n_clusters = i, init = \"k-means++\",max_iter = 300,n_init = 10,random_state =0)\n",
    "    km.fit(x)\n",
    "    wcss.append(km.inertia_)\n",
    "    \n",
    "plt.plot(range(1,11),wcss)\n",
    "plt.title('The Elbow Method',fontsize = 20)\n",
    "plt.xlabel(\"No of Clusters\",fontsize = 15)\n",
    "plt.ylabel(\"wcss\",fontsize=15)\n",
    "plt.show()"
   ]
  },
  {
   "cell_type": "code",
   "execution_count": 29,
   "id": "eb366d65",
   "metadata": {},
   "outputs": [],
   "source": [
    "\n",
    "km = KMeans(n_clusters = 4, init = \"k-means++\",max_iter = 300,n_init = 10,random_state =0)\n",
    "#     y_means = km.fit_predict(x)\n",
    "    \n",
    "#     a = data['label']\n",
    "#     y_means  = pd.DataFrame(y_means)\n",
    "#     z = pd.concat([y_means, a],axis = 1)\n",
    "#     z = z.rename(columns = {0:\"cluster\"})\n"
   ]
  },
  {
   "cell_type": "code",
   "execution_count": 30,
   "id": "7b59d4d5",
   "metadata": {},
   "outputs": [],
   "source": [
    "   y_means = km.fit_predict(x)"
   ]
  },
  {
   "cell_type": "code",
   "execution_count": 31,
   "id": "8b9d97c9",
   "metadata": {},
   "outputs": [],
   "source": [
    "a = data['label']\n",
    "y_means  = pd.DataFrame(y_means)\n",
    "z = pd.concat([y_means, a],axis = 1)\n",
    "z = z.rename(columns = {0:\"cluster\"})\n"
   ]
  },
  {
   "cell_type": "code",
   "execution_count": 32,
   "id": "02491da4",
   "metadata": {},
   "outputs": [
    {
     "name": "stdout",
     "output_type": "stream",
     "text": [
      "Lets check the Results After Applying the K Means Clustering Analysis\n",
      "\n",
      "Crops in First Cluster : ['maize' 'chickpea' 'kidneybeans' 'pigeonpeas' 'mothbeans' 'mungbean'\n",
      " 'blackgram' 'lentil' 'pomegranate' 'mango' 'orange' 'papaya' 'coconut']\n",
      "\n",
      "---------------------------------------------------------------\n",
      "Crops in Second Cluster : ['maize' 'banana' 'watermelon' 'muskmelon' 'papaya' 'cotton' 'coffee']\n",
      "\n",
      "---------------------------------------------------------------\n",
      "Crops in Third Cluster : ['grapes' 'apple']\n",
      "\n",
      "---------------------------------------------------------------\n",
      "Crops in Fourth Cluster : ['rice' 'pigeonpeas' 'papaya' 'coconut' 'jute' 'coffee']\n"
     ]
    }
   ],
   "source": [
    "print(\"Lets check the Results After Applying the K Means Clustering Analysis\\n\")\n",
    "print(\"Crops in First Cluster :\",z[z[\"cluster\"] == 0]['label'].unique())\n",
    "print()\n",
    "print(\"---------------------------------------------------------------\")\n",
    "print(\"Crops in Second Cluster :\",z[z[\"cluster\"] == 1]['label'].unique())\n",
    "print()\n",
    "print(\"---------------------------------------------------------------\")\n",
    "print(\"Crops in Third Cluster :\",z[z[\"cluster\"] == 2]['label'].unique())\n",
    "print()\n",
    "print(\"---------------------------------------------------------------\")\n",
    "print(\"Crops in Fourth Cluster :\",z[z[\"cluster\"] == 3]['label'].unique())\n"
   ]
  },
  {
   "cell_type": "code",
   "execution_count": 33,
   "id": "a6fff623",
   "metadata": {},
   "outputs": [],
   "source": [
    "y = data[\"label\"]\n",
    "x = data.drop([\"label\"],axis = 1)"
   ]
  },
  {
   "cell_type": "code",
   "execution_count": 34,
   "id": "5da2b6ae",
   "metadata": {},
   "outputs": [
    {
     "name": "stdout",
     "output_type": "stream",
     "text": [
      "shape of x : (2200, 7)\n",
      "shape of y : (2200,)\n"
     ]
    }
   ],
   "source": [
    "print(\"shape of x :\",x.shape)\n",
    "print(\"shape of y :\",y.shape)"
   ]
  },
  {
   "cell_type": "code",
   "execution_count": 35,
   "id": "c5d20e52",
   "metadata": {},
   "outputs": [
    {
     "name": "stdout",
     "output_type": "stream",
     "text": [
      "The shape of x train : (1760, 7)\n",
      "The shape of x test : (440, 7)\n",
      "The shape of y train : (1760,)\n",
      "The shape of y test : (440,)\n"
     ]
    }
   ],
   "source": [
    "from sklearn.model_selection import train_test_split\n",
    "x_train ,x_test,y_train,y_test = train_test_split(x,y,test_size = 0.2 , random_state = 0)\n",
    "print(\"The shape of x train :\",x_train.shape)\n",
    "print(\"The shape of x test :\",x_test.shape)\n",
    "print(\"The shape of y train :\",y_train.shape)\n",
    "print(\"The shape of y test :\",y_test.shape)"
   ]
  },
  {
   "cell_type": "code",
   "execution_count": 36,
   "id": "dadd94bd",
   "metadata": {},
   "outputs": [],
   "source": [
    "from sklearn.linear_model import LogisticRegression"
   ]
  },
  {
   "cell_type": "code",
   "execution_count": 37,
   "id": "ba196b92",
   "metadata": {},
   "outputs": [],
   "source": [
    "prem = LogisticRegression()\n",
    "prem.fit(x_train,y_train)\n",
    "y_pred = prem.predict(x_test)"
   ]
  },
  {
   "cell_type": "code",
   "execution_count": 38,
   "id": "73a53ef3",
   "metadata": {},
   "outputs": [],
   "source": [
    "from sklearn.metrics import classification_report\n",
    "\n",
    "cp = classification_report(y_test,y_pred)"
   ]
  },
  {
   "cell_type": "code",
   "execution_count": 39,
   "id": "1f47735c",
   "metadata": {},
   "outputs": [
    {
     "name": "stdout",
     "output_type": "stream",
     "text": [
      "              precision    recall  f1-score   support\n",
      "\n",
      "       apple       1.00      1.00      1.00        18\n",
      "      banana       1.00      1.00      1.00        18\n",
      "   blackgram       0.86      0.82      0.84        22\n",
      "    chickpea       1.00      1.00      1.00        23\n",
      "     coconut       1.00      1.00      1.00        15\n",
      "      coffee       1.00      1.00      1.00        17\n",
      "      cotton       0.89      1.00      0.94        16\n",
      "      grapes       1.00      1.00      1.00        18\n",
      "        jute       0.84      1.00      0.91        21\n",
      " kidneybeans       1.00      1.00      1.00        20\n",
      "      lentil       0.94      0.94      0.94        17\n",
      "       maize       0.94      0.89      0.91        18\n",
      "       mango       1.00      1.00      1.00        21\n",
      "   mothbeans       0.88      0.92      0.90        25\n",
      "    mungbean       1.00      1.00      1.00        17\n",
      "   muskmelon       1.00      1.00      1.00        23\n",
      "      orange       1.00      1.00      1.00        23\n",
      "      papaya       1.00      0.95      0.98        21\n",
      "  pigeonpeas       1.00      1.00      1.00        22\n",
      " pomegranate       1.00      1.00      1.00        23\n",
      "        rice       1.00      0.84      0.91        25\n",
      "  watermelon       1.00      1.00      1.00        17\n",
      "\n",
      "    accuracy                           0.97       440\n",
      "   macro avg       0.97      0.97      0.97       440\n",
      "weighted avg       0.97      0.97      0.97       440\n",
      "\n"
     ]
    }
   ],
   "source": [
    "\n",
    "print(cp)"
   ]
  },
  {
   "cell_type": "code",
   "execution_count": 40,
   "id": "97c3d3b6",
   "metadata": {},
   "outputs": [
    {
     "name": "stdout",
     "output_type": "stream",
     "text": [
      "The SUggested Crop for Given Climatic Codition is : ['rice']\n"
     ]
    }
   ],
   "source": [
    "prediction = prem.predict(np.array([[90,\n",
    "                                     40,\n",
    "                                     40,\n",
    "                                     20,\n",
    "                                     80,\n",
    "                                     7,\n",
    "                                     200]]))\n",
    "print(\"The SUggested Crop for Given Climatic Codition is :\",prediction)"
   ]
  },
  {
   "cell_type": "code",
   "execution_count": 41,
   "id": "368bcdda",
   "metadata": {},
   "outputs": [
    {
     "name": "stdout",
     "output_type": "stream",
     "text": [
      "The SUggested Crop for Given Climatic Codition is : ['mango']\n"
     ]
    }
   ],
   "source": [
    "prediction = prem.predict(np.array([[60,20,70,50,60,3,150]]))\n",
    "print(\"The SUggested Crop for Given Climatic Codition is :\",prediction)"
   ]
  },
  {
   "cell_type": "markdown",
   "id": "ca68e3ff",
   "metadata": {},
   "source": [
    "# Check the Model for Oranges  also"
   ]
  },
  {
   "cell_type": "code",
   "execution_count": 42,
   "id": "2de8dc86",
   "metadata": {},
   "outputs": [
    {
     "data": {
      "text/html": [
       "<div>\n",
       "<style scoped>\n",
       "    .dataframe tbody tr th:only-of-type {\n",
       "        vertical-align: middle;\n",
       "    }\n",
       "\n",
       "    .dataframe tbody tr th {\n",
       "        vertical-align: top;\n",
       "    }\n",
       "\n",
       "    .dataframe thead th {\n",
       "        text-align: right;\n",
       "    }\n",
       "</style>\n",
       "<table border=\"1\" class=\"dataframe\">\n",
       "  <thead>\n",
       "    <tr style=\"text-align: right;\">\n",
       "      <th></th>\n",
       "      <th>N</th>\n",
       "      <th>P</th>\n",
       "      <th>K</th>\n",
       "      <th>temperature</th>\n",
       "      <th>humidity</th>\n",
       "      <th>ph</th>\n",
       "      <th>rainfall</th>\n",
       "      <th>label</th>\n",
       "    </tr>\n",
       "  </thead>\n",
       "  <tbody>\n",
       "    <tr>\n",
       "      <th>1600</th>\n",
       "      <td>22</td>\n",
       "      <td>30</td>\n",
       "      <td>12</td>\n",
       "      <td>15.781442</td>\n",
       "      <td>92.510777</td>\n",
       "      <td>6.354007</td>\n",
       "      <td>119.035002</td>\n",
       "      <td>orange</td>\n",
       "    </tr>\n",
       "    <tr>\n",
       "      <th>1601</th>\n",
       "      <td>37</td>\n",
       "      <td>6</td>\n",
       "      <td>13</td>\n",
       "      <td>26.030973</td>\n",
       "      <td>91.508193</td>\n",
       "      <td>7.511755</td>\n",
       "      <td>101.284774</td>\n",
       "      <td>orange</td>\n",
       "    </tr>\n",
       "    <tr>\n",
       "      <th>1602</th>\n",
       "      <td>27</td>\n",
       "      <td>13</td>\n",
       "      <td>6</td>\n",
       "      <td>13.360506</td>\n",
       "      <td>91.356082</td>\n",
       "      <td>7.335158</td>\n",
       "      <td>111.226688</td>\n",
       "      <td>orange</td>\n",
       "    </tr>\n",
       "    <tr>\n",
       "      <th>1603</th>\n",
       "      <td>7</td>\n",
       "      <td>16</td>\n",
       "      <td>9</td>\n",
       "      <td>18.879577</td>\n",
       "      <td>92.043045</td>\n",
       "      <td>7.813917</td>\n",
       "      <td>114.665951</td>\n",
       "      <td>orange</td>\n",
       "    </tr>\n",
       "    <tr>\n",
       "      <th>1604</th>\n",
       "      <td>20</td>\n",
       "      <td>7</td>\n",
       "      <td>9</td>\n",
       "      <td>29.477417</td>\n",
       "      <td>91.578029</td>\n",
       "      <td>7.129137</td>\n",
       "      <td>111.172750</td>\n",
       "      <td>orange</td>\n",
       "    </tr>\n",
       "  </tbody>\n",
       "</table>\n",
       "</div>"
      ],
      "text/plain": [
       "       N   P   K  temperature   humidity        ph    rainfall   label\n",
       "1600  22  30  12    15.781442  92.510777  6.354007  119.035002  orange\n",
       "1601  37   6  13    26.030973  91.508193  7.511755  101.284774  orange\n",
       "1602  27  13   6    13.360506  91.356082  7.335158  111.226688  orange\n",
       "1603   7  16   9    18.879577  92.043045  7.813917  114.665951  orange\n",
       "1604  20   7   9    29.477417  91.578029  7.129137  111.172750  orange"
      ]
     },
     "execution_count": 42,
     "metadata": {},
     "output_type": "execute_result"
    }
   ],
   "source": [
    "data[data['label']==\"orange\"].head()"
   ]
  },
  {
   "cell_type": "code",
   "execution_count": 43,
   "id": "ff28e00b",
   "metadata": {},
   "outputs": [
    {
     "name": "stdout",
     "output_type": "stream",
     "text": [
      "The SUggested Crop for Given Climatic Codition is : ['orange']\n"
     ]
    }
   ],
   "source": [
    "prediction = prem.predict(np.array([[20,30,15,20,90,6,120]]))\n",
    "print(\"The Suggested Crop for Given Climatic Codition is :\",prediction)"
   ]
  },
  {
   "cell_type": "code",
   "execution_count": 94,
   "id": "c39f9870",
   "metadata": {},
   "outputs": [
    {
     "ename": "AttributeError",
     "evalue": "'numpy.ndarray' object has no attribute 'string'",
     "output_type": "error",
     "traceback": [
      "\u001b[1;31m---------------------------------------------------------------------------\u001b[0m",
      "\u001b[1;31mAttributeError\u001b[0m                            Traceback (most recent call last)",
      "Input \u001b[1;32mIn [94]\u001b[0m, in \u001b[0;36m<cell line: 1>\u001b[1;34m()\u001b[0m\n\u001b[1;32m----> 1\u001b[0m \u001b[38;5;28mprint\u001b[39m(\u001b[43mprediction\u001b[49m\u001b[38;5;241;43m.\u001b[39;49m\u001b[43mstring\u001b[49m())\n",
      "\u001b[1;31mAttributeError\u001b[0m: 'numpy.ndarray' object has no attribute 'string'"
     ]
    }
   ],
   "source": [
    "print(prediction)"
   ]
  },
  {
   "cell_type": "markdown",
   "id": "2a293be8",
   "metadata": {},
   "source": [
    "# Save Model"
   ]
  },
  {
   "cell_type": "code",
   "execution_count": 49,
   "id": "221f0f7b",
   "metadata": {},
   "outputs": [],
   "source": [
    "import joblib"
   ]
  },
  {
   "cell_type": "code",
   "execution_count": 50,
   "id": "878d6976",
   "metadata": {},
   "outputs": [
    {
     "data": {
      "text/plain": [
       "['argriculture_production.pkl']"
      ]
     },
     "execution_count": 50,
     "metadata": {},
     "output_type": "execute_result"
    }
   ],
   "source": [
    "joblib.dump(prem,\"argriculture_production.pkl\")"
   ]
  },
  {
   "cell_type": "code",
   "execution_count": 52,
   "id": "d2d2d268",
   "metadata": {},
   "outputs": [],
   "source": [
    "model = joblib.load(\"argriculture_production.pkl\")"
   ]
  },
  {
   "cell_type": "code",
   "execution_count": 53,
   "id": "6fa48b66",
   "metadata": {},
   "outputs": [
    {
     "data": {
      "text/plain": [
       "array(['orange'], dtype=object)"
      ]
     },
     "execution_count": 53,
     "metadata": {},
     "output_type": "execute_result"
    }
   ],
   "source": [
    "model.predict([[20,30,15,20,90,6,120]])"
   ]
  },
  {
   "cell_type": "code",
   "execution_count": null,
   "id": "88d88c6c",
   "metadata": {},
   "outputs": [],
   "source": []
  }
 ],
 "metadata": {
  "kernelspec": {
   "display_name": "Python 3 (ipykernel)",
   "language": "python",
   "name": "python3"
  },
  "language_info": {
   "codemirror_mode": {
    "name": "ipython",
    "version": 3
   },
   "file_extension": ".py",
   "mimetype": "text/x-python",
   "name": "python",
   "nbconvert_exporter": "python",
   "pygments_lexer": "ipython3",
   "version": "3.10.5"
  }
 },
 "nbformat": 4,
 "nbformat_minor": 5
}
